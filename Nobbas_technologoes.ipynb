{
 "cells": [
  {
   "cell_type": "code",
   "execution_count": 1,
   "metadata": {},
   "outputs": [],
   "source": [
    "import pandas as pd, numpy as np"
   ]
  },
  {
   "cell_type": "code",
   "execution_count": 2,
   "metadata": {},
   "outputs": [],
   "source": [
    "csv1 = pd.read_csv('C:/Users/Rhishikesh Padole/Desktop/New folder (2)/CSV 1.csv')\n",
    "csv2 = pd.read_csv('C:/Users/Rhishikesh Padole/Desktop/New folder (2)/CSV 2.csv')\n",
    "csv3 = pd.read_csv('C:/Users/Rhishikesh Padole/Desktop/New folder (2)/CSV 3.csv')"
   ]
  },
  {
   "cell_type": "code",
   "execution_count": 3,
   "metadata": {},
   "outputs": [],
   "source": [
    "pd.set_option('display.max_columns', 500)"
   ]
  },
  {
   "cell_type": "code",
   "execution_count": 4,
   "metadata": {},
   "outputs": [],
   "source": [
    "#csv1.nunique()"
   ]
  },
  {
   "cell_type": "code",
   "execution_count": 5,
   "metadata": {},
   "outputs": [],
   "source": [
    "#csv1.head(2)"
   ]
  },
  {
   "cell_type": "code",
   "execution_count": 6,
   "metadata": {},
   "outputs": [],
   "source": [
    "regression_dataset = csv1[['city', 'country', 'stateOrProvince', 'bathrooms', 'bedrooms', 'listPrice', 'livingArea', 'propertySubType', 'listingCategory', 'photoscount', 'grade']]\n",
    "topic_modelling_dataset = csv1[['listingDescription']]\n",
    "clustering_dataset = csv1[['latitude', 'longitude']]"
   ]
  },
  {
   "cell_type": "code",
   "execution_count": 7,
   "metadata": {},
   "outputs": [
    {
     "name": "stderr",
     "output_type": "stream",
     "text": [
      "C:\\ProgramData\\Anaconda3\\lib\\site-packages\\ipykernel_launcher.py:1: SettingWithCopyWarning: \n",
      "A value is trying to be set on a copy of a slice from a DataFrame\n",
      "\n",
      "See the caveats in the documentation: http://pandas.pydata.org/pandas-docs/stable/indexing.html#indexing-view-versus-copy\n",
      "  \"\"\"Entry point for launching an IPython kernel.\n",
      "C:\\ProgramData\\Anaconda3\\lib\\site-packages\\ipykernel_launcher.py:2: SettingWithCopyWarning: \n",
      "A value is trying to be set on a copy of a slice from a DataFrame\n",
      "\n",
      "See the caveats in the documentation: http://pandas.pydata.org/pandas-docs/stable/indexing.html#indexing-view-versus-copy\n",
      "  \n"
     ]
    }
   ],
   "source": [
    "clustering_dataset.dropna(axis=0, inplace=True)\n",
    "topic_modelling_dataset.dropna(axis=0, inplace=True)"
   ]
  },
  {
   "cell_type": "markdown",
   "metadata": {},
   "source": [
    "# ---------------------------------------------------------------------------------------------------------------"
   ]
  },
  {
   "cell_type": "code",
   "execution_count": 8,
   "metadata": {},
   "outputs": [],
   "source": [
    "from sklearn.cluster import KMeans\n",
    "model  = KMeans(n_clusters=25)\n",
    "model.fit(clustering_dataset)\n",
    "clustered_labels = model.predict(clustering_dataset)"
   ]
  },
  {
   "cell_type": "code",
   "execution_count": 9,
   "metadata": {},
   "outputs": [],
   "source": [
    "categorical_clustered_labels = []\n",
    "for i in clustered_labels:\n",
    "    categorical_clustered_labels.append('Area'+str(i))"
   ]
  },
  {
   "cell_type": "markdown",
   "metadata": {},
   "source": [
    "# ---------------------------------------------------------------------------------------------------------------"
   ]
  },
  {
   "cell_type": "code",
   "execution_count": 10,
   "metadata": {},
   "outputs": [],
   "source": [
    "import re\n",
    "clean_review = []\n",
    "\n",
    "for i in topic_modelling_dataset['listingDescription']:\n",
    "    word_list = re.findall(\"[a-zA-Z]+\",i)\n",
    "    #print(word_list)\n",
    "    sentence = ' '.join(word_list)\n",
    "    #print(sentence)\n",
    "    #print('____________________________________________')\n",
    "    clean_review.append(sentence)"
   ]
  },
  {
   "cell_type": "code",
   "execution_count": 11,
   "metadata": {},
   "outputs": [
    {
     "name": "stderr",
     "output_type": "stream",
     "text": [
      "C:\\ProgramData\\Anaconda3\\lib\\site-packages\\nltk\\twitter\\__init__.py:20: UserWarning: The twython library has not been installed. Some functionality from the twitter package will not be available.\n",
      "  warnings.warn(\"The twython library has not been installed. \"\n"
     ]
    }
   ],
   "source": [
    "from nltk.sentiment import SentimentIntensityAnalyzer\n",
    "def get_sentiment(text):\n",
    "    sentiment = SentimentIntensityAnalyzer()\n",
    "    compound = sentiment.polarity_scores(text)['compound']\n",
    "    if compound > 0.05:\n",
    "        return \"Positive\"\n",
    "    elif compound < -0.05:\n",
    "        return \"Negative\"\n",
    "    else:\n",
    "        return \"Neutral\""
   ]
  },
  {
   "cell_type": "code",
   "execution_count": 12,
   "metadata": {},
   "outputs": [
    {
     "name": "stderr",
     "output_type": "stream",
     "text": [
      "C:\\ProgramData\\Anaconda3\\lib\\site-packages\\ipykernel_launcher.py:1: SettingWithCopyWarning: \n",
      "A value is trying to be set on a copy of a slice from a DataFrame.\n",
      "Try using .loc[row_indexer,col_indexer] = value instead\n",
      "\n",
      "See the caveats in the documentation: http://pandas.pydata.org/pandas-docs/stable/indexing.html#indexing-view-versus-copy\n",
      "  \"\"\"Entry point for launching an IPython kernel.\n",
      "C:\\ProgramData\\Anaconda3\\lib\\site-packages\\ipykernel_launcher.py:3: SettingWithCopyWarning: \n",
      "A value is trying to be set on a copy of a slice from a DataFrame.\n",
      "Try using .loc[row_indexer,col_indexer] = value instead\n",
      "\n",
      "See the caveats in the documentation: http://pandas.pydata.org/pandas-docs/stable/indexing.html#indexing-view-versus-copy\n",
      "  This is separate from the ipykernel package so we can avoid doing imports until\n"
     ]
    }
   ],
   "source": [
    "topic_modelling_dataset['clean_Description'] = clean_review\n",
    "\n",
    "topic_modelling_dataset['Sentiment'] = topic_modelling_dataset['clean_Description'].apply(get_sentiment)"
   ]
  },
  {
   "cell_type": "markdown",
   "metadata": {},
   "source": [
    "# ---------------------------------------------------------------------------------------------------------------"
   ]
  },
  {
   "cell_type": "code",
   "execution_count": 13,
   "metadata": {
    "scrolled": true
   },
   "outputs": [
    {
     "data": {
      "text/plain": [
       "Positive    768\n",
       "Neutral      61\n",
       "Negative     13\n",
       "Name: Sentiment, dtype: int64"
      ]
     },
     "execution_count": 13,
     "metadata": {},
     "output_type": "execute_result"
    }
   ],
   "source": [
    "topic_modelling_dataset['Sentiment'].value_counts()"
   ]
  },
  {
   "cell_type": "code",
   "execution_count": 14,
   "metadata": {},
   "outputs": [
    {
     "data": {
      "text/plain": [
       "good       301\n",
       "awesome    300\n",
       "bad        299\n",
       "Name: grade, dtype: int64"
      ]
     },
     "execution_count": 14,
     "metadata": {},
     "output_type": "execute_result"
    }
   ],
   "source": [
    "regression_dataset['grade'].value_counts()"
   ]
  },
  {
   "cell_type": "markdown",
   "metadata": {},
   "source": [
    "## Grades are equally distributed, but sentiments are generalised by positivity. This means that, Sentiments that the customers given to us are not really affecting the grade. Furthermore, 'listingDescription' is just a replication of customer's chivalry."
   ]
  },
  {
   "cell_type": "markdown",
   "metadata": {},
   "source": [
    "# ---------------------------------------------------------------------------------------------------------------"
   ]
  },
  {
   "cell_type": "code",
   "execution_count": 15,
   "metadata": {},
   "outputs": [
    {
     "data": {
      "text/plain": [
       "city                 0\n",
       "country              0\n",
       "stateOrProvince      1\n",
       "bathrooms            0\n",
       "bedrooms             0\n",
       "listPrice            0\n",
       "livingArea         174\n",
       "propertySubType      0\n",
       "listingCategory      0\n",
       "photoscount          0\n",
       "grade                0\n",
       "dtype: int64"
      ]
     },
     "execution_count": 15,
     "metadata": {},
     "output_type": "execute_result"
    }
   ],
   "source": [
    "regression_dataset.isnull().sum()"
   ]
  },
  {
   "cell_type": "code",
   "execution_count": 16,
   "metadata": {},
   "outputs": [
    {
     "name": "stderr",
     "output_type": "stream",
     "text": [
      "C:\\ProgramData\\Anaconda3\\lib\\site-packages\\ipykernel_launcher.py:3: SettingWithCopyWarning: \n",
      "A value is trying to be set on a copy of a slice from a DataFrame.\n",
      "Try using .loc[row_indexer,col_indexer] = value instead\n",
      "\n",
      "See the caveats in the documentation: http://pandas.pydata.org/pandas-docs/stable/indexing.html#indexing-view-versus-copy\n",
      "  This is separate from the ipykernel package so we can avoid doing imports until\n"
     ]
    }
   ],
   "source": [
    "# Here, we could be impute 'stateOrProvince' by binomial-Naive-Bayes classifier by taking city as input\n",
    "# But after chaecking, it came to know that missing value is out of America, So labelling just by 'Others'\n",
    "regression_dataset['stateOrProvince'] = regression_dataset['stateOrProvince'].fillna('Other')"
   ]
  },
  {
   "cell_type": "code",
   "execution_count": 17,
   "metadata": {},
   "outputs": [],
   "source": [
    "corr1 = regression_dataset[['listPrice', 'livingArea']]"
   ]
  },
  {
   "cell_type": "code",
   "execution_count": 18,
   "metadata": {},
   "outputs": [],
   "source": [
    "train = corr1[corr1['livingArea'].isnull() == False]\n",
    "test = corr1[corr1['livingArea'].isnull() == True]"
   ]
  },
  {
   "cell_type": "code",
   "execution_count": 19,
   "metadata": {},
   "outputs": [
    {
     "data": {
      "text/plain": [
       "listPrice     0\n",
       "livingArea    0\n",
       "dtype: int64"
      ]
     },
     "execution_count": 19,
     "metadata": {},
     "output_type": "execute_result"
    }
   ],
   "source": [
    "train.isnull().sum()"
   ]
  },
  {
   "cell_type": "code",
   "execution_count": 20,
   "metadata": {},
   "outputs": [],
   "source": [
    "train_x = train.drop('livingArea', axis = 1)\n",
    "train_y = train['livingArea']\n",
    "test_x = test.drop('livingArea', axis = 1)\n",
    "test_y = test['livingArea']"
   ]
  },
  {
   "cell_type": "code",
   "execution_count": 21,
   "metadata": {},
   "outputs": [
    {
     "data": {
      "text/plain": [
       "<matplotlib.collections.PathCollection at 0x206e476f0f0>"
      ]
     },
     "execution_count": 21,
     "metadata": {},
     "output_type": "execute_result"
    }
   ],
   "source": [
    "import matplotlib.pyplot as plt\n",
    "plt.scatter(train_x, train_y)"
   ]
  },
  {
   "cell_type": "markdown",
   "metadata": {},
   "source": [
    "# we can see outliers are suppressing the scatter plot; So, we have to cap outliers by fencing "
   ]
  },
  {
   "cell_type": "code",
   "execution_count": 22,
   "metadata": {},
   "outputs": [],
   "source": [
    "lower_fence_y = train_y.quantile(0.25) - (1.15 * (train_y.quantile(0.75) - train_y.quantile(0.25)))\n",
    "upper_fence_y = train_y.quantile(0.75) + (1.15 * (train_y.quantile(0.75) - train_y.quantile(0.25)))"
   ]
  },
  {
   "cell_type": "code",
   "execution_count": 23,
   "metadata": {},
   "outputs": [],
   "source": [
    "outlier_train_y = []\n",
    "for y in train_y:\n",
    "    if (y > upper_fence_y):\n",
    "        y = upper_fence_y\n",
    "    elif (y < lower_fence_y):\n",
    "        y = lower_fence_y\n",
    "    outlier_train_y.append(y)    "
   ]
  },
  {
   "cell_type": "code",
   "execution_count": 24,
   "metadata": {},
   "outputs": [],
   "source": [
    "lower_fence_x = train_x.quantile(0.25)[0] - (1 * (train_x.quantile(0.75)[0] - train_x.quantile(0.25)[0]))\n",
    "upper_fence_x = train_x.quantile(0.75)[0] + (1 * (train_x.quantile(0.75)[0] - train_x.quantile(0.25)[0]))"
   ]
  },
  {
   "cell_type": "code",
   "execution_count": 25,
   "metadata": {},
   "outputs": [],
   "source": [
    "outlier_train_x = []\n",
    "for x in train_x['listPrice']:\n",
    "    if (x > upper_fence_x):\n",
    "        x = upper_fence_x\n",
    "    elif (x < lower_fence_x):\n",
    "        x = lower_fence_x\n",
    "    outlier_train_x.append(x)    "
   ]
  },
  {
   "cell_type": "code",
   "execution_count": 26,
   "metadata": {},
   "outputs": [
    {
     "data": {
      "text/plain": [
       "<matplotlib.collections.PathCollection at 0x206e5055f60>"
      ]
     },
     "execution_count": 26,
     "metadata": {},
     "output_type": "execute_result"
    },
    {
     "data": {
      "image/png": "[encoded data removed]",
      "text/plain": [
       "<matplotlib.figure.Figure at 0x206e503ccf8>"
      ]
     },
     "metadata": {},
     "output_type": "display_data"
    }
   ],
   "source": [
    "import matplotlib.pyplot as plt\n",
    "plt.scatter(outlier_train_x, outlier_train_y)"
   ]
  },
  {
   "cell_type": "markdown",
   "metadata": {},
   "source": [
    "# We can see there is strong correlation between livingArea and listPrice"
   ]
  },
  {
   "cell_type": "code",
   "execution_count": 27,
   "metadata": {},
   "outputs": [],
   "source": [
    "# To manipulate the data, dataframe will be easy to handle\n",
    "outlier_train_x_df = pd.DataFrame(outlier_train_x)\n",
    "outlier_train_y_df = pd.DataFrame(outlier_train_y)"
   ]
  },
  {
   "cell_type": "code",
   "execution_count": 28,
   "metadata": {},
   "outputs": [],
   "source": [
    "# Predicting livingArea in accordance of listPrice (simple linear regression)\n",
    "from sklearn.linear_model import LinearRegression\n",
    "model = LinearRegression()\n",
    "model.fit(outlier_train_x_df, outlier_train_y_df)\n",
    "predicted_living_Area = model.predict(test_x)"
   ]
  },
  {
   "cell_type": "code",
   "execution_count": 29,
   "metadata": {},
   "outputs": [],
   "source": [
    "predicted_living_Area = pd.DataFrame(predicted_living_Area)"
   ]
  },
  {
   "cell_type": "code",
   "execution_count": 30,
   "metadata": {},
   "outputs": [],
   "source": [
    "predicted_living_Area = predicted_living_Area.rename(columns = {0 : 'living_Area'})"
   ]
  },
  {
   "cell_type": "code",
   "execution_count": 31,
   "metadata": {
    "collapsed": true
   },
   "outputs": [
    {
     "name": "stdout",
     "output_type": "stream",
     "text": [
      "1312.8586134364762\n",
      "1310.3321934242115\n",
      "1309.5237390202867\n",
      "1312.2522726335328\n",
      "1317.9114534610057\n",
      "1311.9996306323062\n",
      "1309.927966222249\n",
      "1311.0395910276457\n",
      "1311.949102232061\n",
      "1498.8031263391622\n",
      "1313.2628406384385\n",
      "3802.8981775246193\n",
      "1316.8928009120607\n",
      "1620.0712869278705\n",
      "1313.4649542394197\n",
      "1331.0488375247826\n",
      "1308.8163414168525\n",
      "3631.1016166906156\n",
      "1313.667067840401\n",
      "1962.6538405909714\n",
      "1311.8480454315704\n",
      "1311.4215857335\n",
      "1309.1195118183243\n",
      "1985.8766933437091\n",
      "1311.2417046286268\n",
      "3257.191454875432\n",
      "1314.879749446288\n",
      "1742.0145069438558\n",
      "1311.0395910276457\n",
      "1436.1479100349964\n",
      "1311.8480454315704\n",
      "1309.3216254193055\n",
      "1588.7436787757874\n",
      "2205.9743625401948\n",
      "2859.0276609425064\n",
      "1308.715284616362\n",
      "2418.217897202552\n",
      "3022.739677737263\n",
      "1518.8123728362991\n",
      "2345.659114450308\n",
      "1749.423991555826\n",
      "1747.200741945033\n",
      "1640.2826470259886\n",
      "1564.490046658046\n",
      "1690.6089336703026\n",
      "1313.667067840401\n",
      "1680.7053672222246\n",
      "1311.2417046286268\n",
      "1619.8691733268893\n",
      "1309.9784946224945\n",
      "1310.3321934242115\n",
      "1731.2337674675198\n",
      "5349.06520389464\n",
      "3271.3394069441147\n",
      "3083.373758031617\n",
      "1311.3932898293626\n",
      "1313.0607270374574\n",
      "1314.677635845307\n",
      "1751.445127565638\n",
      "1312.0501590325516\n",
      "3014.6551336980156\n",
      "1741.1373339155975\n",
      "1310.2311366237209\n",
      "1308.715284616362\n",
      "1650.1862134740663\n",
      "2570.0052115394183\n",
      "1781.5600541118338\n",
      "1308.0584154131732\n",
      "2913.598333207425\n",
      "1771.4543740627746\n",
      "1872.511174553365\n",
      "1660.2918935231255\n",
      "1309.0184550178337\n",
      "1310.8071603865174\n",
      "1311.443818229608\n",
      "1312.2421669534835\n",
      "2295.130714205013\n",
      "2024.2984888902315\n",
      "1309.8269094217585\n",
      "2861.0487969523183\n",
      "1309.927966222249\n",
      "1882.8189682034051\n",
      "1921.018438788848\n",
      "1405.8308698878193\n",
      "1902.828214700542\n",
      "2436.6102348918394\n",
      "1756.4979675901673\n",
      "1559.4372066335163\n",
      "1850.4807920464164\n",
      "1912.933894749601\n",
      "1827.2377279335806\n",
      "1508.9067852522114\n",
      "1715.0646793890253\n",
      "1468.283972591004\n",
      "1609.7634932778303\n",
      "1387.640645799513\n",
      "1833.0141346496225\n",
      "1387.438532198532\n",
      "1535.1835745157748\n",
      "3277.40281497355\n",
      "2618.5124757749018\n",
      "1478.389652640063\n",
      "1497.7925583342562\n",
      "2030.3618969196668\n",
      "1311.7469886310798\n",
      "1539.2258465353984\n",
      "1541.2469825452101\n",
      "1686.76877525166\n",
      "1892.7225346514829\n",
      "1307.4116518900335\n",
      "1307.4116518900335\n",
      "1307.4116518900335\n",
      "1307.4116518900335\n",
      "1307.4116518900335\n",
      "1307.4116518900335\n",
      "1307.4116518900335\n",
      "1307.4116518900335\n",
      "1549.3315265844574\n",
      "2671.062012030009\n",
      "3588.657760484568\n",
      "2254.707994008777\n",
      "1444.2324540742436\n",
      "2094.6340220316824\n",
      "1830.269431948298\n",
      "1321.9537254806294\n",
      "1751.445127565638\n",
      "1903.0303283015232\n",
      "1428.063365995749\n",
      "1609.9656068788115\n",
      "1549.3315265844574\n",
      "1308.7759186966564\n",
      "1308.4121142148904\n",
      "1810.05807185018\n",
      "1400.7780298632897\n",
      "2335.5534344012494\n",
      "1549.1294129834762\n",
      "2326.63214005394\n",
      "1323.974861490441\n",
      "1308.2504233341053\n",
      "1650.1862134740663\n",
      "2468.9484110488283\n",
      "1690.6089336703026\n",
      "1648.3671910652358\n",
      "2519.4768112941238\n",
      "1427.861252394768\n",
      "1589.5521331797122\n",
      "1310.1300798232303\n",
      "1327.0065452937988\n",
      "1327.0065452937988\n",
      "1327.0065452937988\n",
      "1322.7621798845541\n",
      "2317.363210312943\n",
      "2317.363210312943\n",
      "1387.438532198532\n",
      "1377.534965750454\n",
      "3530.0448162000257\n",
      "1321.9537254806294\n",
      "1320.9431574757234\n",
      "1327.006565505159\n",
      "1320.9431574757234\n",
      "1322.9642934855353\n",
      "1529.1201664863393\n",
      "1323.974861490441\n",
      "2014.1928088411723\n",
      "1311.8480454315704\n",
      "1399.7674618583837\n",
      "1399.7674618583837\n",
      "1385.6195097897012\n",
      "1385.6195097897012\n",
      "3307.719855120727\n",
      "1601.8810628395643\n",
      "1601.8810628395643\n",
      "1609.9656068788115\n",
      "1658.4728711142948\n"
     ]
    }
   ],
   "source": [
    "#Appending predicted null values in new list of non-null values\n",
    "\n",
    "outlier_train_y_list = outlier_train_y\n",
    "for i in predicted_living_Area['living_Area']:\n",
    "    #print(i)\n",
    "    outlier_train_y_list.append(i)"
   ]
  },
  {
   "cell_type": "code",
   "execution_count": 33,
   "metadata": {},
   "outputs": [],
   "source": [
    "# replacing old 'livingArea' by new predicted 'livingArea'\n",
    "\n",
    "regression_dataset = regression_dataset.drop('livingArea', axis=1)\n",
    "regression_dataset['livingArea'] = outlier_train_y_list"
   ]
  },
  {
   "cell_type": "markdown",
   "metadata": {},
   "source": [
    "# We have imputed livingArea column by predicting it."
   ]
  },
  {
   "cell_type": "code",
   "execution_count": 34,
   "metadata": {},
   "outputs": [],
   "source": [
    "regression_dataset = regression_dataset[['city', 'country', 'stateOrProvince', 'bathrooms', 'bedrooms','listPrice', 'propertySubType', 'listingCategory', 'photoscount', 'livingArea','grade']]"
   ]
  },
  {
   "cell_type": "code",
   "execution_count": 47,
   "metadata": {},
   "outputs": [],
   "source": [
    "regression_dataset_dummies = pd.get_dummies(regression_dataset.drop('grade', axis=1))\n",
    "regression_dataset_dummies['grade'] = regression_dataset['grade']"
   ]
  },
  {
   "cell_type": "code",
   "execution_count": 49,
   "metadata": {},
   "outputs": [],
   "source": [
    "from sklearn.model_selection import train_test_split\n",
    "\n",
    "train_data, test_data = train_test_split(regression_dataset_dummies, test_size=0.25)\n",
    "train_y_data = train_data['grade']\n",
    "train_x_data = train_data.drop('grade', axis=1)\n",
    "test_y_data = test_data['grade']\n",
    "test_x_data = test_data.drop('grade', axis=1)"
   ]
  },
  {
   "cell_type": "code",
   "execution_count": 75,
   "metadata": {},
   "outputs": [
    {
     "name": "stderr",
     "output_type": "stream",
     "text": [
      "C:\\ProgramData\\Anaconda3\\lib\\site-packages\\sklearn\\preprocessing\\label.py:151: DeprecationWarning: The truth value of an empty array is ambiguous. Returning False, but in future this will result in an error. Use `array.size > 0` to check that an array is not empty.\n",
      "  if diff:\n"
     ]
    }
   ],
   "source": [
    "from sklearn.tree import DecisionTreeClassifier\n",
    "from sklearn.naive_bayes import MultinomialNB\n",
    "from sklearn.ensemble import RandomForestClassifier\n",
    "from sklearn.ensemble import AdaBoostClassifier\n",
    "from sklearn.neighbors import KNeighborsClassifier\n",
    "from sklearn.svm import SVC\n",
    "from xgboost.sklearn import XGBClassifier\n",
    "model = XGBClassifier()\n",
    "model.fit(train_x_data, train_y_data)\n",
    "prediction = model.predict(test_x_data)"
   ]
  },
  {
   "cell_type": "code",
   "execution_count": 78,
   "metadata": {},
   "outputs": [],
   "source": [
    "df = pd.DataFrame({'actual' : test_y_data, 'pred' : prediction})"
   ]
  },
  {
   "cell_type": "code",
   "execution_count": 79,
   "metadata": {},
   "outputs": [],
   "source": [
    "df['stat'] = df['actual'] == df['pred']"
   ]
  },
  {
   "cell_type": "code",
   "execution_count": 86,
   "metadata": {},
   "outputs": [
    {
     "name": "stdout",
     "output_type": "stream",
     "text": [
      "Accuracy :  93.33 %\n"
     ]
    }
   ],
   "source": [
    "print('Accuracy : ',round(((df['stat'].value_counts()/df.shape[0])*100)[1], 2),'%')"
   ]
  },
  {
   "cell_type": "code",
   "execution_count": null,
   "metadata": {},
   "outputs": [],
   "source": [
    "# It is not effective with Multinomial-Naive-Bayes and tree classifers"
   ]
  },
  {
   "cell_type": "markdown",
   "metadata": {},
   "source": [
    "# Reference : \n",
    "- https://machinelearningmastery.com/normalize-standardize-time-series-data-python/"
   ]
  },
  {
   "cell_type": "markdown",
   "metadata": {},
   "source": [
    "# Report : "
   ]
  },
  {
   "cell_type": "markdown",
   "metadata": {},
   "source": [
    "### We need region column (A region means collection of states i.e. Region is between States and Countries). By this we can give smoothing for a classifier. Because, too much categories and very less categories creates problems."
   ]
  },
  {
   "cell_type": "markdown",
   "metadata": {},
   "source": [
    "### We can remove livingArea column because, (1) it has 37 % missing values, (2) there is a strong correlation between livingArea and listPrice. This may cause data redundancy, which also can give an overfitted model."
   ]
  },
  {
   "cell_type": "markdown",
   "metadata": {},
   "source": [
    "# I am comfortable with classifying CSV1 dataset as achievable"
   ]
  },
  {
   "cell_type": "markdown",
   "metadata": {},
   "source": [
    "# ==============================================================="
   ]
  },
  {
   "cell_type": "markdown",
   "metadata": {},
   "source": [
    "# 1] 'FavouritesCount' column :"
   ]
  },
  {
   "cell_type": "markdown",
   "metadata": {},
   "source": [
    "### As we have seen by sentiment analysis, maximum peoples do not complain openly, but they give a netral(or sometimes exaggerated by positive response), and sometimmes customers who are willing to buy but can not afford it now, they will add the properties in their favourite list just to see. So, 'FavouriteCounts' column may not make any sense for us.\n",
    "### But, this also replicates that the property is likable by customers\n",
    "### So, what we can do if FavouriteCount is made available:\n",
    "- Merging with CSV1 \n",
    "- we can convert this column into n categories according to distribution of data"
   ]
  },
  {
   "cell_type": "markdown",
   "metadata": {},
   "source": [
    "# I am still confused with favouritesCount column, because I am lacking in Property Business Domain.\n",
    "# But to classify, I bin it into 'Achievable'"
   ]
  },
  {
   "cell_type": "markdown",
   "metadata": {},
   "source": [
    "# ================================================================="
   ]
  },
  {
   "cell_type": "markdown",
   "metadata": {},
   "source": [
    "# 2] 'ColabProjects' column : "
   ]
  },
  {
   "cell_type": "markdown",
   "metadata": {},
   "source": [
    "### What we can do with 'ColabProjects'\n",
    "- We can merge it with CSV1\n",
    "- We surely have to classify it into categories, because, it may not matter that how many partners involved in this property, but it may matter that, whether there it is a colabProject or not. So, rather count, categories may make sense."
   ]
  },
  {
   "cell_type": "markdown",
   "metadata": {},
   "source": [
    "# I can bin it into 'Achievable'"
   ]
  },
  {
   "cell_type": "markdown",
   "metadata": {},
   "source": [
    "# I think all the datasets are important for our classification problems."
   ]
  }
 ],
 "metadata": {
  "kernelspec": {
   "display_name": "Python 3",
   "language": "python",
   "name": "python3"
  },
  "language_info": {
   "codemirror_mode": {
    "name": "ipython",
    "version": 3
   },
   "file_extension": ".py",
   "mimetype": "text/x-python",
   "name": "python",
   "nbconvert_exporter": "python",
   "pygments_lexer": "ipython3",
   "version": "3.6.4"
  }
 },
 "nbformat": 4,
 "nbformat_minor": 2
}
